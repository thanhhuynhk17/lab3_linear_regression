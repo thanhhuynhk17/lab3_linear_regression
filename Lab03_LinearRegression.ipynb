{
 "cells": [
  {
   "cell_type": "markdown",
   "metadata": {
    "id": "dw29NSYmFpyS"
   },
   "source": [
    "# Lab03: Hồi quy tuyến tính.\n",
    "\n",
    "- MSSV: \n",
    "- Họ và tên:"
   ]
  },
  {
   "cell_type": "markdown",
   "metadata": {
    "id": "oHR1Zj5GFpyT"
   },
   "source": [
    "## Yêu cầu bài tập\n",
    "\n",
    "**Cách làm bài**\n",
    "\n",
    "\n",
    "Bạn sẽ làm trực tiếp trên file notebook này; trong file, từ `TODO` để cho biết những phần mà bạn cần phải làm.\n",
    "\n",
    "Bạn có thể thảo luận ý tưởng cũng như tham khảo các tài liệu, nhưng *code và bài làm phải là của bạn*. \n",
    "\n",
    "Nếu vi phạm thì sẽ bị 0 điểm cho bài tập này.\n",
    "\n",
    "**Cách nộp bài**\n",
    "\n",
    "Trước khi nộp bài, rerun lại notebook (`Kernel` -> `Restart & Run All`).\n",
    "\n",
    "Sau đó, tạo thư mục có tên `MSSV` của bạn (vd, nếu bạn có MSSV là 1234567 thì bạn đặt tên thư mục là `1234567`) Chép file `Lab03-Clustering.ipynb` vào, rồi nén thư mục `MSSV` này lại và nộp ở link trên moodle.\n",
    "\n",
    "**Nội dung bài tập**\n",
    "\n",
    "Bài tập 3 là bài tập cá nhân. Trong bài này, bạn sẽ cài đặt thuật toán học máy `Hồi quy tuyến tính`. \n"
   ]
  },
  {
   "cell_type": "markdown",
   "metadata": {
    "id": "REHkv-y8FpyU"
   },
   "source": [
    "### 1. Tập giả định"
   ]
  },
  {
   "cell_type": "markdown",
   "metadata": {
    "id": "e75OMY0KFpyU"
   },
   "source": [
    "- Hồi quy tuyến tính là một mô hình **tuyến tính**, mô hình này giả định tồn tại một mối liên hệ tuyến tính giữa các biến đầu vào (x) và một biến đầu ra (y). Cụ thể hơn, y có thể được tính bằng một tổ hợp tuyến tính của các biến đầu vào (x).\n",
    "- Một cách tổng quát, một mô hình tuyến tính dự đoán kết quả bằng cách tính tổng trọng số của các đặc trưng đầu vào (hay các biến độc lập). \n",
    "$$ \\hat{y}=w_0+w_1x_1+w_2x_2+...+w_nx_n $$\n",
    "    - $\\hat{y}$ là giá trị dự đoán.\n",
    "    - $n$ là số lượng đặc trưng.\n",
    "    - $x_i$ là giá trị đặc trưng thứ $i$.\n",
    "    - $w_j$ là tham số thứ $j$ của mô hình.\n",
    "$$\\hat{y}=h_{\\mathbf{w}}\\left(\\mathbf{x}\\right)=\\mathbf{w}^{T}\\cdot\\mathbf{x}$$\n",
    "    - $\\mathbf{w}$ **vector trọng số** của mô hình (bao gốm cả $w_0$ và các trọng số đặc trưng $w_1,w_2,...w_n$).\n",
    "    - $\\mathbf{w}^T$ là chuyển vị của $\\mathbf{w}$ (vector hàng thay vì vector cột).\n",
    "    - $\\mathbf{x}$ là **vector đầu vào** của các mẫu dữ liệu, *bao gồm* $x_0$ đến $x_n$, với $x_0$ *luôn có giá trị là* 1.\n",
    "    - $\\mathbf{w}^{T}\\cdot\\mathbf{x}$ là tích vô hướng của 2 vector $\\mathbf{w}^T$ và $\\mathbf{x}$.\n",
    "    - $h_{\\mathbf{w}}$ là hàm giả thiết, biểu diễn bằng các tham số $\\mathbf{w}$.\n"
   ]
  },
  {
   "cell_type": "markdown",
   "metadata": {
    "id": "5l8F4lnjFpyV"
   },
   "source": [
    "### 2. Đánh giá hiệu suất và mục tiêu học"
   ]
  },
  {
   "cell_type": "markdown",
   "metadata": {
    "id": "fdJNZ2q6FpyX"
   },
   "source": [
    "- Trước khi huấn luyện dữ liệu, ta cần phải đánh giá mô hình của chúng ta khớp với dữ liệu huấn luyện như thế nào. Cách đánh giá thường được sử dụng nhất là trung bình bình phương độ lỗi **MSE** (Mean Square Error) $\\Rightarrow$ ta cần phải tìm $\\mathbf{w}$ tối thiểu hóa MSE:\n",
    "$$\\mathbf{w}=\\arg\\min MSE_{\\mathcal{D}_{train}}$$\n",
    "\n",
    "\n",
    "- MSE trên tập huấn luyện $\\mathcal{D}_{train}$ ký hiệu $\\left(\\mathbf{X},\\mathbf{y}\\right)$ bao gồm m mẫu $\\left\\{\\left(\\mathbf{x}_1,y_1\\right),\\left(\\mathbf{x}_2,y_2\\right),...\\left(\\mathbf{x}_m,y_m\\right)\\right\\}$"
   ]
  },
  {
   "cell_type": "markdown",
   "metadata": {
    "id": "GTOZj7HfFpyY"
   },
   "source": [
    "$$MSE\\left(X,h_{\\mathbf{w}}\\right)=\\dfrac{1}{m}\\sum_{i=1}^{m}\\left(\\mathbf{w}^T\\cdot\\mathbf{x}_i - y_i\\right )^2$$\n",
    "$$MSE\\left(X,h_{\\mathbf{w}}\\right)=\\dfrac{1}{m}\\Vert\\mathbf{X}\\mathbf{w}-\\mathbf{y}\\Vert^2$$"
   ]
  },
  {
   "cell_type": "markdown",
   "metadata": {
    "id": "ORU-9tCxFpyZ"
   },
   "source": [
    "- Để tìm $\\mathbf{w}$ sao cho hàm lỗi MSE tối thiểu ta tìm điểm đạo hàm của MSE có giá trị 0. \n",
    "$$\\mathbf{\\hat{w}}=\\left(\\mathbf{X}^T  \\mathbf{X}\\right)^{\\dagger}  \\mathbf{X}^T  \\mathbf{y}$$\n",
    "  - $\\mathbf{\\hat{w}}$ là giá trị của $\\mathbf{w}$ để giảm thiểu độ lỗi. \n",
    "  - **Chú ý** $\\mathbf{X}^T  \\mathbf{X}$ không phải luôn **khả nghịch**. $\\left(\\mathbf{X}^T  \\mathbf{X}\\right)^{\\dagger}$ là nghịch đảo giả của $\\left(\\mathbf{X}^T  \\mathbf{X}\\right)$ - trường hợp nghịch đảo tổng quát kể cả khi ma trận không vuông cũng như không khả nghịch."
   ]
  },
  {
   "cell_type": "markdown",
   "metadata": {
    "id": "6Tgy-tRYFpyZ"
   },
   "source": [
    "### 3. Cài đặt"
   ]
  },
  {
   "cell_type": "markdown",
   "metadata": {
    "id": "qauCdk7LFpya"
   },
   "source": [
    "#### Import Library"
   ]
  },
  {
   "cell_type": "code",
   "execution_count": 1,
   "metadata": {
    "id": "70Mis-p9Fpyd"
   },
   "outputs": [],
   "source": [
    "import numpy as np\n",
    "import matplotlib.pyplot as plt \n",
    "import sklearn.datasets as datasets\n",
    "%matplotlib inline"
   ]
  },
  {
   "cell_type": "markdown",
   "metadata": {
    "id": "nRr06hARFpyk"
   },
   "source": [
    "#### Create data"
   ]
  },
  {
   "cell_type": "code",
   "execution_count": 2,
   "metadata": {
    "id": "g0K3G_SOFpyk"
   },
   "outputs": [],
   "source": [
    "X,y=datasets.make_regression(n_samples=100,n_features=1, noise=5)"
   ]
  },
  {
   "cell_type": "markdown",
   "metadata": {
    "id": "vBFWzeY3Fpyp"
   },
   "source": [
    "#### Load and visualize data"
   ]
  },
  {
   "cell_type": "code",
   "execution_count": 3,
   "metadata": {
    "id": "4BpxLtG3Fpyq"
   },
   "outputs": [
    {
     "data": {
      "image/png": "[encoded data removed]",
      "text/plain": [
       "<Figure size 432x288 with 1 Axes>"
      ]
     },
     "metadata": {
      "needs_background": "light"
     },
     "output_type": "display_data"
    }
   ],
   "source": [
    "# Visualize data \n",
    "\n",
    "plt.plot(X, y, 'ro')\n",
    "plt.show()\n"
   ]
  },
  {
   "cell_type": "markdown",
   "metadata": {
    "id": "PLDAEVR8Fpyx"
   },
   "source": [
    "**TODO:** \n",
    "\n",
    "- Nhận xét dữ liệu: Dữ liệu gần như được phân bố trên một đường thẳng, hầu như không có dữ liệu nhiễu. Nếu dùng hồi quy tuyến tính thì khả năng cao cho ra được kết quả tốt."
   ]
  },
  {
   "cell_type": "markdown",
   "metadata": {
    "id": "mrb7peM1Fpyz"
   },
   "source": [
    "#### Training function"
   ]
  },
  {
   "cell_type": "code",
   "execution_count": 4,
   "metadata": {
    "id": "DdPXTgoAFpyz"
   },
   "outputs": [],
   "source": [
    "def train_linear_regression(X, y):\n",
    "    '''\n",
    "    Trains Linear Regression on the dataset (X, y).\n",
    "    \n",
    "    Parameters\n",
    "    ----------\n",
    "    X : numpy array, shape (m, d + 1)\n",
    "        The matrix of input vectors (each row corresponds to an input vector); \n",
    "        the first column of this matrix is all ones (corresponding to x_0).\n",
    "    y : numpy array, shape (m, 1)\n",
    "        The vector of outputs.\n",
    "    \n",
    "    Returns\n",
    "    -------\n",
    "    w : numpy array, shape (d + 1, 1)\n",
    "        The vector of parameters of Linear Regression after training.\n",
    "    '''\n",
    "    # TODO\n",
    "    # Calculating weights\n",
    "    A = np.dot(X.T,X)\n",
    "    b = np.dot(X.T,y)\n",
    "    w = np.dot(np.linalg.pinv(A),b)\n",
    "    \n",
    "    return w"
   ]
  },
  {
   "cell_type": "markdown",
   "metadata": {},
   "source": [
    "$$A=X^TX$$\n",
    "$$b=X^Ty$$\n",
    "$$w=A^{+}b=(X^TX)^\\dagger X^Ty$$"
   ]
  },
  {
   "cell_type": "code",
   "execution_count": 5,
   "metadata": {
    "id": "wDgQ-5EDFpy5"
   },
   "outputs": [
    {
     "name": "stdout",
     "output_type": "stream",
     "text": [
      "one_added_X.shape = (100, 2)\n",
      "y.shape = (100,)\n"
     ]
    }
   ],
   "source": [
    "# Construct one_added_X \n",
    "# TODO:\n",
    "# First column of one_added_X is all ones (corresponding to x_0).\n",
    "\n",
    "m = X.shape[0]\n",
    "one_vector = np.ones(m)\n",
    "one_vector = one_vector[:, np.newaxis]\n",
    "one_added_X = np.append(one_vector, X, axis = 1)\n",
    "\n",
    "print ('one_added_X.shape =', one_added_X.shape)\n",
    "print ('y.shape =', y.shape)\n"
   ]
  },
  {
   "cell_type": "markdown",
   "metadata": {
    "id": "nVhd2dvCFpzE"
   },
   "source": [
    "#### Train our model and visualize result"
   ]
  },
  {
   "cell_type": "code",
   "execution_count": 6,
   "metadata": {},
   "outputs": [
    {
     "name": "stdout",
     "output_type": "stream",
     "text": [
      "xmin = 0.0, xmax = 1.0\n"
     ]
    },
    {
     "data": {
      "image/png": "[encoded data removed]",
      "text/plain": [
       "<Figure size 432x288 with 1 Axes>"
      ]
     },
     "metadata": {
      "needs_background": "light"
     },
     "output_type": "display_data"
    }
   ],
   "source": [
    "x_min, x_max = plt.xlim()\n",
    "print(f\"xmin = {x_min}, xmax = {x_max}\")"
   ]
  },
  {
   "cell_type": "code",
   "execution_count": 7,
   "metadata": {
    "id": "y3YvmkEEFpzE"
   },
   "outputs": [
    {
     "data": {
      "text/plain": [
       "(-2.4978731099930935, 2.955770624411701)"
      ]
     },
     "execution_count": 7,
     "metadata": {},
     "output_type": "execute_result"
    },
    {
     "data": {
      "image/png": "[encoded data removed]",
      "text/plain": [
       "<Figure size 432x288 with 1 Axes>"
      ]
     },
     "metadata": {
      "needs_background": "light"
     },
     "output_type": "display_data"
    }
   ],
   "source": [
    "w = train_linear_regression(one_added_X, y)\n",
    "\n",
    "# Visualize result\n",
    "predicted_ys = one_added_X.dot(w)\n",
    "\n",
    "plt.plot(X,y,'ro')\n",
    "\n",
    "x_min, x_max = plt.xlim()\n",
    "xs = np.array([x_min, x_max]).reshape(-1, 1)\n",
    "# Construct one_added_xs \n",
    "# TODO:\n",
    "# First column of one_added_xs is all ones (corresponding to x_0).\n",
    "m = xs.shape[0]\n",
    "one_vector = np.ones(m)\n",
    "one_vector = one_vector[:, np.newaxis]\n",
    "ones_added_xs = np.append(one_vector, xs, axis = 1)\n",
    "\n",
    "\n",
    "predicted_ys = ones_added_xs.dot(w)\n",
    "plt.plot(xs, predicted_ys)\n",
    "plt.xlim(x_min, x_max)\n",
    "\n",
    "\n"
   ]
  },
  {
   "cell_type": "markdown",
   "metadata": {
    "id": "lTO6ilruFpzH"
   },
   "source": [
    "- **TODO**: Điểm mạnh và điểm yếu của `Hồi quy tuyến tính`:"
   ]
  },
  {
   "cell_type": "code",
   "execution_count": null,
   "metadata": {
    "id": "BehaTobaFpzI"
   },
   "outputs": [],
   "source": []
  }
 ],
 "metadata": {
  "colab": {
   "collapsed_sections": [],
   "name": "Lab03-LinearRegression.ipynb",
   "provenance": []
  },
  "kernelspec": {
   "display_name": "Python 3",
   "language": "python",
   "name": "python3"
  },
  "language_info": {
   "codemirror_mode": {
    "name": "ipython",
    "version": 3
   },
   "file_extension": ".py",
   "mimetype": "text/x-python",
   "name": "python",
   "nbconvert_exporter": "python",
   "pygments_lexer": "ipython3",
   "version": "3.8.6"
  }
 },
 "nbformat": 4,
 "nbformat_minor": 4
}
